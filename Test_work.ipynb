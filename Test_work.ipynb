import pandas as pd

xl = pd.ExcelFile('Downloads/testovoe_zadanie.xlsx')
print(xl.sheet_names)
df = xl.parse('База')

df = df.rename(columns={'Дата транзакции': 'Date',
                        'id клиента': 'ClientId',
                        'Канал проведения сделки (розничная, интернет и др.)':'TransactionChannel',
                        'Номер магазина': 'StoreNumber',
                        'Код документа сделки (номер чека)':'CheckNumber',
                        'Количество единиц продукции, проданных в транзакции': 'Quantity',
                        'Цена товара без скидки':'Price',
                        'Сумма скидки':'Discount',
                        'Цена товара со скидкой':'CostWithDiscount',
                        'Прибыль от осуществления транзакции': 'Profit',
                        'Тип скидки (несгруппированный)':'DiscountType_ungr',
                        'Тип скидки (сгруппированный)': 'DiscountType_gr',
                       'Тип схемы работы с клиентом': 'ClientSchemeWork',
                       'Номер проданной единицы номенклатуры (несгруппированные данные)': 'NumberItemUnit',
                       'Категория продукции (группировка номенклатуры1)':'ProductCategory1',
                       'Товарная группа (группировка номенклатуры2)': 'CommodityGroup2'})
                       
df_reduced = df[(df.Quantity>0) & (df.Price>0) & (df.Discount>=0) & (df.Discount <100) & (df.CostWithDiscount>0) & (df.Profit>0)]
df_emissions = df[(df.Quantity<=0) | (df.Price<=0) | ((df.Discount<0) | (df.Discount >=100)) | (df.CostWithDiscount<=0) | (df.Profit<=0)]

df_emissions = df_emissions.rename(columns={'Date':'Дата транзакции',
                        'ClientId':'id клиента',
                        'TransactionChannel':'Канал проведения сделки (розничная, интернет и др.)',
                        'StoreNumber':'Номер магазина',
                        'CheckNumber':'Код документа сделки (номер чека)',
                        'Quantity':'Количество единиц продукции, проданных в транзакции',
                        'Price':'Цена товара без скидки',
                        'Discount':'Сумма скидки',
                        'CostWithDiscount':'Цена товара со скидкой',
                         'Profit':'Прибыль от осуществления транзакции',
                        'DiscountType_ungr':'Тип скидки (несгруппированный)',
                         'DiscountType_gr':'Тип скидки (сгруппированный)',
                        'ClientSchemeWork':'Тип схемы работы с клиентом',
                        'NumberItemUnit':'Номер проданной единицы номенклатуры (несгруппированные данные)',
                       'ProductCategory1':'Категория продукции (группировка номенклатуры1)',
                        'CommodityGroup2':'Товарная группа (группировка номенклатуры2)'})

df_reduced.sort_values(by='Дата транзакции')
df_emissions.sort_values(by='Дата транзакции')

writer = pd.ExcelWriter('testovoe_zadanie_reduced.xlsx', engine='xlsxwriter')
df_reduced.to_excel(writer, sheet_name='ClearData')
df_emissions.to_excel(writer, sheet_name='Emissions')
writer.save()
